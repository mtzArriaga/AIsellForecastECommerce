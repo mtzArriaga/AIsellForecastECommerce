{
 "cells": [
  {
   "cell_type": "code",
   "execution_count": 1,
   "metadata": {},
   "outputs": [],
   "source": [
    "import pandas as pd\n",
    "import numpy as np\n",
    "import matplotlib.pyplot as plt"
   ]
  },
  {
   "cell_type": "markdown",
   "metadata": {},
   "source": [
    "# Read Data"
   ]
  },
  {
   "cell_type": "code",
   "execution_count": 2,
   "metadata": {},
   "outputs": [
    {
     "name": "stdout",
     "output_type": "stream",
     "text": [
      "2019-Dec.csv\n",
      "(3533286, 9)\n",
      "2019-Nov.csv\n",
      "(4635837, 9)\n",
      "2019-Oct.csv\n",
      "(4102283, 9)\n",
      "2020-Feb.csv\n",
      "(4156682, 9)\n",
      "2020-Jan.csv\n",
      "(4264752, 9)\n"
     ]
    },
    {
     "data": {
      "text/plain": [
       "(20692840, 9)"
      ]
     },
     "execution_count": 2,
     "metadata": {},
     "output_type": "execute_result"
    }
   ],
   "source": [
    "import os \n",
    "import glob\n",
    "pd.set_option(\"display.float_format\", lambda x: \"%.3f\" % x)\n",
    "\n",
    "all_files = glob.glob(\"*.csv\")\n",
    "\n",
    "li = []\n",
    "\n",
    "for filename in all_files:\n",
    "    print(filename)\n",
    "    df = pd.read_csv(filename, index_col=None, header=0)\n",
    "    print(df.shape)\n",
    "    li.append(df)\n",
    "\n",
    "frame = pd.concat(li, axis=0, ignore_index=True)\n",
    "frame.shape\n",
    "\n",
    "#df.shape"
   ]
  },
  {
   "cell_type": "code",
   "execution_count": 3,
   "metadata": {},
   "outputs": [
    {
     "data": {
      "text/plain": [
       "(20692840, 9)"
      ]
     },
     "execution_count": 3,
     "metadata": {},
     "output_type": "execute_result"
    }
   ],
   "source": [
    "frame.shape"
   ]
  },
  {
   "cell_type": "code",
   "execution_count": 4,
   "metadata": {},
   "outputs": [
    {
     "data": {
      "text/plain": [
       "array(['remove_from_cart', 'view', 'cart', 'purchase'], dtype=object)"
      ]
     },
     "execution_count": 4,
     "metadata": {},
     "output_type": "execute_result"
    }
   ],
   "source": [
    "\n",
    "frame.event_type.unique()"
   ]
  },
  {
   "cell_type": "code",
   "execution_count": 5,
   "metadata": {},
   "outputs": [
    {
     "name": "stdout",
     "output_type": "stream",
     "text": [
      "  event_time    price\n",
      "0   20191001 1579.360\n",
      "1   20191002 1154.680\n",
      "2   20191003 1665.510\n",
      "3   20191004 1213.050\n",
      "4   20191005  862.860\n"
     ]
    }
   ],
   "source": [
    "frame = frame[(frame[\"price\"] > 0) & (frame[\"event_type\"] == \"purchase\") ]\n",
    "\n",
    "frame = frame.dropna(subset=[\"brand\", \"price\", \"product_id\",\"category_code\",\"event_time\"])\n",
    "\n",
    "\n",
    "frame['event_time'] = pd.to_datetime(frame['event_time']).dt.date\n",
    "\n",
    "frame2 = frame.groupby(['event_time'], as_index=False)['price'].sum()\n",
    "frame2[\"event_time\"] = pd.to_datetime(frame2[\"event_time\"]).dt.strftime(\"%Y%m%d\")\n",
    "frame3 = frame2\n",
    "#df2.shape\n",
    "frame2.shape\n",
    "print(frame2.head())"
   ]
  },
  {
   "cell_type": "code",
   "execution_count": 6,
   "metadata": {},
   "outputs": [
    {
     "name": "stdout",
     "output_type": "stream",
     "text": [
      "  event_time    price\n",
      "0   20191001 1579.360\n",
      "1   20191002 1154.680\n",
      "2   20191003 1665.510\n",
      "3   20191004 1213.050\n",
      "4   20191005  862.860\n"
     ]
    }
   ],
   "source": [
    "label = frame2[\"price\"]\n",
    "data = frame2.drop(columns=[\"price\"])\n",
    "print(frame2.head())"
   ]
  },
  {
   "cell_type": "code",
   "execution_count": 7,
   "metadata": {},
   "outputs": [],
   "source": [
    "from sklearn.preprocessing import StandardScaler\n",
    "\n",
    "scaler1 = StandardScaler()\n",
    "scaled_features = scaler1.fit_transform(frame3)"
   ]
  },
  {
   "cell_type": "code",
   "execution_count": 8,
   "metadata": {},
   "outputs": [
    {
     "name": "stdout",
     "output_type": "stream",
     "text": [
      "Número de datos normales: 150\n",
      "Número de datos anomalos: 2\n"
     ]
    }
   ],
   "source": [
    "from sklearn.neighbors import LocalOutlierFactor\n",
    "# Aplicar LOF (Local Outlier Factor)\n",
    "lof = LocalOutlierFactor(n_neighbors=20, contamination=0.01)\n",
    "frame3['anomaly_score'] = lof.fit_predict(scaled_features)\n",
    "\n",
    "# Ver numero de elementos de cada cluster\n",
    "anomaly = frame3[frame3['anomaly_score'] == -1].shape[0]\n",
    "normal = frame3[frame3['anomaly_score'] == 1].shape[0]\n",
    "\n",
    "print(\"Número de datos normales:\", normal)\n",
    "print(\"Número de datos anomalos:\", anomaly)"
   ]
  },
  {
   "cell_type": "code",
   "execution_count": 14,
   "metadata": {},
   "outputs": [
    {
     "data": {
      "text/html": [
       "<div>\n",
       "<style scoped>\n",
       "    .dataframe tbody tr th:only-of-type {\n",
       "        vertical-align: middle;\n",
       "    }\n",
       "\n",
       "    .dataframe tbody tr th {\n",
       "        vertical-align: top;\n",
       "    }\n",
       "\n",
       "    .dataframe thead th {\n",
       "        text-align: right;\n",
       "    }\n",
       "</style>\n",
       "<table border=\"1\" class=\"dataframe\">\n",
       "  <thead>\n",
       "    <tr style=\"text-align: right;\">\n",
       "      <th></th>\n",
       "      <th>event_time</th>\n",
       "      <th>price</th>\n",
       "      <th>anomaly_score</th>\n",
       "    </tr>\n",
       "  </thead>\n",
       "  <tbody>\n",
       "    <tr>\n",
       "      <th>0</th>\n",
       "      <td>20191001</td>\n",
       "      <td>1579.360</td>\n",
       "      <td>1</td>\n",
       "    </tr>\n",
       "    <tr>\n",
       "      <th>1</th>\n",
       "      <td>20191002</td>\n",
       "      <td>1154.680</td>\n",
       "      <td>1</td>\n",
       "    </tr>\n",
       "    <tr>\n",
       "      <th>2</th>\n",
       "      <td>20191003</td>\n",
       "      <td>1665.510</td>\n",
       "      <td>1</td>\n",
       "    </tr>\n",
       "    <tr>\n",
       "      <th>3</th>\n",
       "      <td>20191004</td>\n",
       "      <td>1213.050</td>\n",
       "      <td>1</td>\n",
       "    </tr>\n",
       "    <tr>\n",
       "      <th>4</th>\n",
       "      <td>20191005</td>\n",
       "      <td>862.860</td>\n",
       "      <td>1</td>\n",
       "    </tr>\n",
       "    <tr>\n",
       "      <th>...</th>\n",
       "      <td>...</td>\n",
       "      <td>...</td>\n",
       "      <td>...</td>\n",
       "    </tr>\n",
       "    <tr>\n",
       "      <th>147</th>\n",
       "      <td>20200225</td>\n",
       "      <td>2024.900</td>\n",
       "      <td>1</td>\n",
       "    </tr>\n",
       "    <tr>\n",
       "      <th>148</th>\n",
       "      <td>20200226</td>\n",
       "      <td>1501.420</td>\n",
       "      <td>1</td>\n",
       "    </tr>\n",
       "    <tr>\n",
       "      <th>149</th>\n",
       "      <td>20200227</td>\n",
       "      <td>908.370</td>\n",
       "      <td>1</td>\n",
       "    </tr>\n",
       "    <tr>\n",
       "      <th>150</th>\n",
       "      <td>20200228</td>\n",
       "      <td>1587.170</td>\n",
       "      <td>1</td>\n",
       "    </tr>\n",
       "    <tr>\n",
       "      <th>151</th>\n",
       "      <td>20200229</td>\n",
       "      <td>1747.110</td>\n",
       "      <td>1</td>\n",
       "    </tr>\n",
       "  </tbody>\n",
       "</table>\n",
       "<p>150 rows × 3 columns</p>\n",
       "</div>"
      ],
      "text/plain": [
       "    event_time    price  anomaly_score\n",
       "0     20191001 1579.360              1\n",
       "1     20191002 1154.680              1\n",
       "2     20191003 1665.510              1\n",
       "3     20191004 1213.050              1\n",
       "4     20191005  862.860              1\n",
       "..         ...      ...            ...\n",
       "147   20200225 2024.900              1\n",
       "148   20200226 1501.420              1\n",
       "149   20200227  908.370              1\n",
       "150   20200228 1587.170              1\n",
       "151   20200229 1747.110              1\n",
       "\n",
       "[150 rows x 3 columns]"
      ]
     },
     "execution_count": 14,
     "metadata": {},
     "output_type": "execute_result"
    }
   ],
   "source": [
    "frame2"
   ]
  },
  {
   "cell_type": "code",
   "execution_count": 10,
   "metadata": {},
   "outputs": [],
   "source": [
    "from sklearn.decomposition import PCA\n",
    "\n",
    "# Reducir las dimensiones a 2D PCA para poder graficar\n",
    "pca = PCA(n_components=2)\n",
    "X_pca = pca.fit_transform(scaled_features)"
   ]
  },
  {
   "cell_type": "code",
   "execution_count": 11,
   "metadata": {},
   "outputs": [
    {
     "data": {
      "image/png": "[encoded data removed]",
      "text/plain": [
       "<Figure size 640x480 with 1 Axes>"
      ]
     },
     "metadata": {},
     "output_type": "display_data"
    }
   ],
   "source": [
    "# Graficar\n",
    "# Asignar colores basados en el array colors\n",
    "color_map = np.array(['blue' if v == 1 else 'red' for v in frame3['anomaly_score']])\n",
    "\n",
    "# Crear la gráfica\n",
    "plt.scatter(X_pca[:, 0], X_pca[:, 1], color=color_map)\n",
    "\n",
    "# Agregar etiquetas y título\n",
    "plt.xlabel('Valores de PCA 1')\n",
    "plt.ylabel('Valores de PCA 2')\n",
    "plt.title('Gráfico de pares (PCA 1, PCA 2) con colores personalizados')\n",
    "\n",
    "# Mostrar la gráfica\n",
    "plt.show()"
   ]
  },
  {
   "cell_type": "code",
   "execution_count": 15,
   "metadata": {},
   "outputs": [
    {
     "data": {
      "text/plain": [
       "(150, 3)"
      ]
     },
     "execution_count": 15,
     "metadata": {},
     "output_type": "execute_result"
    }
   ],
   "source": [
    "#Eliminar datos anomalos\n",
    "frame2 = frame3[(frame3 != -1).all(axis=1)]\n",
    "frame2\n",
    "label = frame2[\"price\"]\n",
    "frame2.shape"
   ]
  },
  {
   "cell_type": "code",
   "execution_count": 16,
   "metadata": {},
   "outputs": [],
   "source": [
    "from sklearn import preprocessing\n",
    "\n",
    "scaler = preprocessing.MinMaxScaler()\n",
    "\n",
    "\n",
    "\n",
    "frame2 = pd.DataFrame(scaler.fit_transform(frame2), columns=frame2.columns)\n"
   ]
  },
  {
   "cell_type": "code",
   "execution_count": 17,
   "metadata": {},
   "outputs": [
    {
     "data": {
      "text/html": [
       "<div>\n",
       "<style scoped>\n",
       "    .dataframe tbody tr th:only-of-type {\n",
       "        vertical-align: middle;\n",
       "    }\n",
       "\n",
       "    .dataframe tbody tr th {\n",
       "        vertical-align: top;\n",
       "    }\n",
       "\n",
       "    .dataframe thead th {\n",
       "        text-align: right;\n",
       "    }\n",
       "</style>\n",
       "<table border=\"1\" class=\"dataframe\">\n",
       "  <thead>\n",
       "    <tr style=\"text-align: right;\">\n",
       "      <th></th>\n",
       "      <th>event_time</th>\n",
       "      <th>price</th>\n",
       "      <th>anomaly_score</th>\n",
       "    </tr>\n",
       "  </thead>\n",
       "  <tbody>\n",
       "    <tr>\n",
       "      <th>11</th>\n",
       "      <td>0.001</td>\n",
       "      <td>0.307</td>\n",
       "      <td>0.000</td>\n",
       "    </tr>\n",
       "    <tr>\n",
       "      <th>1</th>\n",
       "      <td>0.000</td>\n",
       "      <td>0.327</td>\n",
       "      <td>0.000</td>\n",
       "    </tr>\n",
       "    <tr>\n",
       "      <th>109</th>\n",
       "      <td>0.988</td>\n",
       "      <td>0.202</td>\n",
       "      <td>0.000</td>\n",
       "    </tr>\n",
       "    <tr>\n",
       "      <th>126</th>\n",
       "      <td>0.998</td>\n",
       "      <td>0.315</td>\n",
       "      <td>0.000</td>\n",
       "    </tr>\n",
       "    <tr>\n",
       "      <th>30</th>\n",
       "      <td>0.003</td>\n",
       "      <td>0.387</td>\n",
       "      <td>0.000</td>\n",
       "    </tr>\n",
       "  </tbody>\n",
       "</table>\n",
       "</div>"
      ],
      "text/plain": [
       "     event_time  price  anomaly_score\n",
       "11        0.001  0.307          0.000\n",
       "1         0.000  0.327          0.000\n",
       "109       0.988  0.202          0.000\n",
       "126       0.998  0.315          0.000\n",
       "30        0.003  0.387          0.000"
      ]
     },
     "execution_count": 17,
     "metadata": {},
     "output_type": "execute_result"
    }
   ],
   "source": [
    "# Generate train and test datasets'\n",
    "from sklearn.model_selection import train_test_split\n",
    "\n",
    "X = frame2\n",
    "y = label\n",
    "\n",
    "X_train, X_test, y_train, y_test = train_test_split(X, y, test_size=0.2, random_state=55)\n",
    "\n",
    "X_train.head()"
   ]
  },
  {
   "cell_type": "code",
   "execution_count": 18,
   "metadata": {},
   "outputs": [
    {
     "name": "stdout",
     "output_type": "stream",
     "text": [
      "Mean Squared Error:  1.34416849539867e-25\n",
      "R2 Score:  1.0\n",
      "Mean Absolute Error:  2.5769016550232966e-13\n",
      "Explained Variance Score:  1.0\n"
     ]
    }
   ],
   "source": [
    "# Train a Linear Regression model\n",
    "from sklearn.linear_model import LinearRegression\n",
    "from sklearn.metrics import mean_squared_error\n",
    "from sklearn.metrics import r2_score\n",
    "from sklearn.metrics import mean_absolute_error\n",
    "from sklearn.metrics import explained_variance_score\n",
    "\n",
    "model1 = LinearRegression()\n",
    "model1.fit(X_train, y_train)\n",
    "\n",
    "y_pred = model1.predict(X_test)\n",
    "\n",
    "print(\"Mean Squared Error: \", mean_squared_error(y_test, y_pred))\n",
    "print(\"R2 Score: \", r2_score(y_test, y_pred))\n",
    "print(\"Mean Absolute Error: \", mean_absolute_error(y_test, y_pred))\n",
    "print(\"Explained Variance Score: \", explained_variance_score(y_test, y_pred))\n"
   ]
  },
  {
   "cell_type": "code",
   "execution_count": 19,
   "metadata": {},
   "outputs": [
    {
     "name": "stdout",
     "output_type": "stream",
     "text": [
      "Mean Squared Error:  509.33907497000587\n",
      "R2 Score:  0.996574811254312\n",
      "Mean Absolute Error:  16.802401936848963\n",
      "Explained Variance Score:  0.9982170540425486\n"
     ]
    }
   ],
   "source": [
    "# Train a Decision Tree Regressor model\n",
    "from xgboost import XGBRegressor\n",
    "from sklearn.metrics import mean_squared_error\n",
    "from sklearn.metrics import r2_score\n",
    "from sklearn.metrics import mean_absolute_error\n",
    "from sklearn.metrics import explained_variance_score\n",
    "\n",
    "model2 = XGBRegressor()\n",
    "model2.fit(X_train, y_train)\n",
    "\n",
    "y_pred = model2.predict(X_test)\n",
    "\n",
    "print(\"Mean Squared Error: \", mean_squared_error(y_test, y_pred))\n",
    "print(\"R2 Score: \", r2_score(y_test, y_pred))\n",
    "print(\"Mean Absolute Error: \", mean_absolute_error(y_test, y_pred))\n",
    "print(\"Explained Variance Score: \", explained_variance_score(y_test, y_pred))\n"
   ]
  },
  {
   "cell_type": "code",
   "execution_count": 20,
   "metadata": {},
   "outputs": [
    {
     "name": "stdout",
     "output_type": "stream",
     "text": [
      "Mean Squared Error:  97118.44255980643\n",
      "R2 Score:  0.3469006938566701\n",
      "Mean Absolute Error:  253.7584838972747\n",
      "Explained Variance Score:  0.5555154035841787\n"
     ]
    },
    {
     "name": "stderr",
     "output_type": "stream",
     "text": [
      "c:\\Users\\arriaga\\AppData\\Local\\Programs\\Python\\Python310\\lib\\site-packages\\sklearn\\neural_network\\_multilayer_perceptron.py:690: ConvergenceWarning: Stochastic Optimizer: Maximum iterations (500) reached and the optimization hasn't converged yet.\n",
      "  warnings.warn(\n"
     ]
    }
   ],
   "source": [
    "# Train a Neural Network model\n",
    "from sklearn.neural_network import MLPRegressor\n",
    "from sklearn.metrics import mean_squared_error\n",
    "from sklearn.metrics import r2_score\n",
    "from sklearn.metrics import mean_absolute_error\n",
    "from sklearn.metrics import explained_variance_score\n",
    "\n",
    "model3 = MLPRegressor(\n",
    "    hidden_layer_sizes=(100, 50),  # One hidden layer with 100 neurons\n",
    "    activation=\"relu\",  # 'relu' activation function\n",
    "    solver=\"adam\",  # 'adam' solver for weight optimization\n",
    "    max_iter=500,  # Set the number of iterations (epochs)\n",
    "    random_state=42,  # Set the seed for reproducibility\n",
    ")\n",
    "model3.fit(X_train, y_train)\n",
    "\n",
    "y_pred = model3.predict(X_test)\n",
    "\n",
    "print(\"Mean Squared Error: \", mean_squared_error(y_test, y_pred))\n",
    "print(\"R2 Score: \", r2_score(y_test, y_pred))\n",
    "print(\"Mean Absolute Error: \", mean_absolute_error(y_test, y_pred))\n",
    "print(\"Explained Variance Score: \", explained_variance_score(y_test, y_pred))"
   ]
  },
  {
   "cell_type": "code",
   "execution_count": 22,
   "metadata": {},
   "outputs": [
    {
     "data": {
      "text/html": [
       "<div>\n",
       "<style scoped>\n",
       "    .dataframe tbody tr th:only-of-type {\n",
       "        vertical-align: middle;\n",
       "    }\n",
       "\n",
       "    .dataframe tbody tr th {\n",
       "        vertical-align: top;\n",
       "    }\n",
       "\n",
       "    .dataframe thead th {\n",
       "        text-align: right;\n",
       "    }\n",
       "</style>\n",
       "<table border=\"1\" class=\"dataframe\">\n",
       "  <thead>\n",
       "    <tr style=\"text-align: right;\">\n",
       "      <th></th>\n",
       "      <th>y_test</th>\n",
       "      <th>y_pred</th>\n",
       "      <th>diff</th>\n",
       "    </tr>\n",
       "  </thead>\n",
       "  <tbody>\n",
       "    <tr>\n",
       "      <th>0</th>\n",
       "      <td>1206.810</td>\n",
       "      <td>921.027</td>\n",
       "      <td>285.783</td>\n",
       "    </tr>\n",
       "    <tr>\n",
       "      <th>1</th>\n",
       "      <td>1235.490</td>\n",
       "      <td>935.101</td>\n",
       "      <td>300.389</td>\n",
       "    </tr>\n",
       "    <tr>\n",
       "      <th>2</th>\n",
       "      <td>1339.900</td>\n",
       "      <td>959.393</td>\n",
       "      <td>380.507</td>\n",
       "    </tr>\n",
       "    <tr>\n",
       "      <th>3</th>\n",
       "      <td>2039.410</td>\n",
       "      <td>1717.001</td>\n",
       "      <td>322.409</td>\n",
       "    </tr>\n",
       "    <tr>\n",
       "      <th>4</th>\n",
       "      <td>2411.050</td>\n",
       "      <td>1824.241</td>\n",
       "      <td>586.809</td>\n",
       "    </tr>\n",
       "    <tr>\n",
       "      <th>5</th>\n",
       "      <td>1011.450</td>\n",
       "      <td>864.804</td>\n",
       "      <td>146.646</td>\n",
       "    </tr>\n",
       "    <tr>\n",
       "      <th>6</th>\n",
       "      <td>1539.340</td>\n",
       "      <td>1566.346</td>\n",
       "      <td>-27.006</td>\n",
       "    </tr>\n",
       "    <tr>\n",
       "      <th>7</th>\n",
       "      <td>1747.110</td>\n",
       "      <td>1633.333</td>\n",
       "      <td>113.777</td>\n",
       "    </tr>\n",
       "    <tr>\n",
       "      <th>8</th>\n",
       "      <td>1383.430</td>\n",
       "      <td>972.383</td>\n",
       "      <td>411.047</td>\n",
       "    </tr>\n",
       "    <tr>\n",
       "      <th>9</th>\n",
       "      <td>1392.530</td>\n",
       "      <td>975.795</td>\n",
       "      <td>416.735</td>\n",
       "    </tr>\n",
       "  </tbody>\n",
       "</table>\n",
       "</div>"
      ],
      "text/plain": [
       "    y_test   y_pred    diff\n",
       "0 1206.810  921.027 285.783\n",
       "1 1235.490  935.101 300.389\n",
       "2 1339.900  959.393 380.507\n",
       "3 2039.410 1717.001 322.409\n",
       "4 2411.050 1824.241 586.809\n",
       "5 1011.450  864.804 146.646\n",
       "6 1539.340 1566.346 -27.006\n",
       "7 1747.110 1633.333 113.777\n",
       "8 1383.430  972.383 411.047\n",
       "9 1392.530  975.795 416.735"
      ]
     },
     "execution_count": 22,
     "metadata": {},
     "output_type": "execute_result"
    }
   ],
   "source": [
    "# Compare y_pred and y_test\n",
    "y_test = y_test.reset_index(drop=True)\n",
    "y_pred = pd.Series(y_pred)\n",
    "\n",
    "df = pd.DataFrame({\"y_test\": y_test, \"y_pred\": y_pred})\n",
    "df[\"diff\"] = df[\"y_test\"] - df[\"y_pred\"]\n",
    "\n",
    "df.head(10)"
   ]
  }
 ],
 "metadata": {
  "kernelspec": {
   "display_name": "Python 3",
   "language": "python",
   "name": "python3"
  },
  "language_info": {
   "codemirror_mode": {
    "name": "ipython",
    "version": 3
   },
   "file_extension": ".py",
   "mimetype": "text/x-python",
   "name": "python",
   "nbconvert_exporter": "python",
   "pygments_lexer": "ipython3",
   "version": "3.10.4"
  }
 },
 "nbformat": 4,
 "nbformat_minor": 2
}
